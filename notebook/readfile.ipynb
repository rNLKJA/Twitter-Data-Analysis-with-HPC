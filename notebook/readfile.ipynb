{
 "cells": [
  {
   "cell_type": "code",
   "execution_count": 1,
   "id": "595c93de-eea8-48ec-8f38-edb1243f6fc1",
   "metadata": {},
   "outputs": [],
   "source": [
    "import mmap\n",
    "import os"
   ]
  },
  {
   "cell_type": "code",
   "execution_count": 2,
   "id": "620fd273-69e8-4d61-a74f-002c025f915b",
   "metadata": {},
   "outputs": [
    {
     "data": {
      "text/plain": [
       "('../data/smallTwitter.json', 242534080)"
      ]
     },
     "execution_count": 2,
     "metadata": {},
     "output_type": "execute_result"
    }
   ],
   "source": [
    "file = \"../data/smallTwitter.json\"\n",
    "size = os.stat(file).st_size \n",
    "file, size"
   ]
  },
  {
   "cell_type": "code",
   "execution_count": 5,
   "id": "39d34f40-ce9a-4e26-964f-1d60f9dd64d2",
   "metadata": {},
   "outputs": [
    {
     "name": "stdout",
     "output_type": "stream",
     "text": [
      "CPU times: user 2.92 s, sys: 1.77 s, total: 4.69 s\n",
      "Wall time: 9.27 s\n"
     ]
    }
   ],
   "source": [
    "%%time\n",
    "\n",
    "lines = []\n",
    "with open(file, 'rb') as f:\n",
    "    f.seek(0)\n",
    "    while f.tell() < size:\n",
    "        lines.append(f.readline())"
   ]
  },
  {
   "cell_type": "code",
   "execution_count": 6,
   "id": "85c63384-5ed0-49a6-86b2-783de0bedbac",
   "metadata": {},
   "outputs": [
    {
     "data": {
      "text/plain": [
       "9229442"
      ]
     },
     "execution_count": 6,
     "metadata": {},
     "output_type": "execute_result"
    }
   ],
   "source": [
    "len(lines)"
   ]
  },
  {
   "cell_type": "code",
   "execution_count": null,
   "id": "5ada204d-fbc7-4b81-8048-e31887dd1597",
   "metadata": {},
   "outputs": [],
   "source": []
  },
  {
   "cell_type": "code",
   "execution_count": 56,
   "id": "995dc865-d84e-4eee-98eb-ac7e1927b870",
   "metadata": {},
   "outputs": [
    {
     "data": {
      "text/plain": [
       "121267040"
      ]
     },
     "execution_count": 56,
     "metadata": {},
     "output_type": "execute_result"
    }
   ],
   "source": [
    "242534080//2"
   ]
  },
  {
   "cell_type": "code",
   "execution_count": 26,
   "id": "fe646b95-f571-40de-a587-5b89e3d72ea0",
   "metadata": {},
   "outputs": [
    {
     "name": "stdout",
     "output_type": "stream",
     "text": [
      "CPU times: user 680 ms, sys: 433 ms, total: 1.11 s\n",
      "Wall time: 3.42 s\n"
     ]
    }
   ],
   "source": [
    "%%time\n",
    "lines0 = []\n",
    "\n",
    "with open(file, 'rb') as f:\n",
    "    f.seek(size // 2)\n",
    "    mmapped_data = mmap.mmap(f.fileno(), length=size // 2, access=mmap.ACCESS_READ)\n",
    "\n",
    "    line = mmapped_data.readline()\n",
    "    while line:\n",
    "        lines0.append(line)\n",
    "        line = mmapped_data.readline()\n",
    "    \n",
    "    mmapped_data.close()"
   ]
  },
  {
   "cell_type": "code",
   "execution_count": 28,
   "id": "88c7e080-ce29-4488-819b-a52fcf52d7f8",
   "metadata": {},
   "outputs": [
    {
     "data": {
      "text/plain": [
       "4583006"
      ]
     },
     "execution_count": 28,
     "metadata": {},
     "output_type": "execute_result"
    }
   ],
   "source": [
    "len(lines0)"
   ]
  },
  {
   "cell_type": "code",
   "execution_count": 44,
   "id": "9e9cc789-c3ef-4e2a-8243-29f4b9c04368",
   "metadata": {},
   "outputs": [
    {
     "data": {
      "text/plain": [
       "231.29852294921875"
      ]
     },
     "execution_count": 44,
     "metadata": {},
     "output_type": "execute_result"
    }
   ],
   "source": [
    "size / 1024 / 1024"
   ]
  },
  {
   "cell_type": "code",
   "execution_count": 46,
   "id": "1b012f1f-bece-4a60-8435-dc20d19357b5",
   "metadata": {},
   "outputs": [
    {
     "data": {
      "text/plain": [
       "536870912"
      ]
     },
     "execution_count": 46,
     "metadata": {},
     "output_type": "execute_result"
    }
   ],
   "source": [
    "512 * 1024 * 1024"
   ]
  },
  {
   "cell_type": "code",
   "execution_count": 43,
   "id": "c23380e3-a255-400b-9d0f-ad0fab018d5f",
   "metadata": {},
   "outputs": [
    {
     "data": {
      "text/plain": [
       "True"
      ]
     },
     "execution_count": 43,
     "metadata": {},
     "output_type": "execute_result"
    }
   ],
   "source": [
    "512 * 1024 * 1024 > size"
   ]
  },
  {
   "cell_type": "code",
   "execution_count": 47,
   "id": "29830bd8-e95e-4d34-8210-273779c3f946",
   "metadata": {
    "collapsed": true,
    "jupyter": {
     "outputs_hidden": true
    },
    "tags": []
   },
   "outputs": [
    {
     "ename": "TypeError",
     "evalue": "read_512mb_into_memory() missing 1 required positional argument: 'chunk_end'",
     "output_type": "error",
     "traceback": [
      "\u001b[0;31m---------------------------------------------------------------------------\u001b[0m",
      "\u001b[0;31mTypeError\u001b[0m                                 Traceback (most recent call last)",
      "Cell \u001b[0;32mIn[47], line 18\u001b[0m\n\u001b[1;32m     14\u001b[0m             line \u001b[38;5;241m=\u001b[39m mmaped_data\u001b[38;5;241m.\u001b[39mreadline()\n\u001b[1;32m     16\u001b[0m         mmaped_data\u001b[38;5;241m.\u001b[39mclose()\n\u001b[0;32m---> 18\u001b[0m \u001b[43mread_512mb_into_memory\u001b[49m\u001b[43m(\u001b[49m\u001b[43mfile\u001b[49m\u001b[43m,\u001b[49m\u001b[43m \u001b[49m\u001b[43mlines\u001b[49m\u001b[43m,\u001b[49m\u001b[43m \u001b[49m\u001b[43msize\u001b[49m\u001b[43m \u001b[49m\u001b[38;5;241;43m/\u001b[39;49m\u001b[38;5;241;43m/\u001b[39;49m\u001b[43m \u001b[49m\u001b[38;5;241;43m2\u001b[39;49m\u001b[43m)\u001b[49m\n",
      "\u001b[0;31mTypeError\u001b[0m: read_512mb_into_memory() missing 1 required positional argument: 'chunk_end'"
     ]
    }
   ],
   "source": [
    "lines = [] \n",
    "\n",
    "def read_512mb_into_memory(file, lines, chunk_start, chunk_end):\n",
    "    fsize = os.stat(file).st_size\n",
    "    MMAP_SIZE = 536870912\n",
    "    length = MMAP_SIZE if fsize < MMAP_SIZE else fsize\n",
    "    \n",
    "    with open(file, mode='rb') as f:\n",
    "        mmaped_data = mmap.mmap(f.fileno(), length=MMAP_SIZE, offset=536870912,access=mmap.ACCESS_READ)\n",
    "\n",
    "        line = mmaped_data.readline()\n",
    "        while line:\n",
    "            lines.append(line)\n",
    "            line = mmaped_data.readline()\n",
    "\n",
    "        mmaped_data.close()\n",
    "    \n",
    "read_512mb_into_memory(file, lines, )"
   ]
  },
  {
   "cell_type": "code",
   "execution_count": 42,
   "id": "58fabf13-d4a6-435f-8d22-881ee309a45f",
   "metadata": {},
   "outputs": [
    {
     "data": {
      "text/plain": [
       "([b'            \"start\": 0,\\n',\n",
       "  b'            \"end\": 10,\\n',\n",
       "  b'            \"username\": \"isobelroe\",\\n',\n",
       "  b'            \"id\": \"28537321\"\\n',\n",
       "  b'          }\\n'],\n",
       " 20320215)"
      ]
     },
     "execution_count": 42,
     "metadata": {},
     "output_type": "execute_result"
    }
   ],
   "source": [
    "lines[0:5], len(lines)"
   ]
  },
  {
   "cell_type": "code",
   "execution_count": 51,
   "id": "418bd8e4-c3e2-4ea9-b791-b1308e71c73f",
   "metadata": {},
   "outputs": [],
   "source": [
    "file_size = os.path.getsize(file)\n",
    "\n",
    "# 计算 bin 的数量\n",
    "num_bins = file_size // (512 * 1024 * 1024)\n",
    "\n",
    "# 如果文件大小不能被 bin_size 整除，则最后一个 bin 的大小会小于 bin_size\n",
    "if file_size % (512 * 1024 * 1024) != 0:\n",
    "    num_bins += 1"
   ]
  },
  {
   "cell_type": "code",
   "execution_count": 52,
   "id": "b37d9a1b-d8c0-40d3-bc91-c244153a7a5e",
   "metadata": {},
   "outputs": [
    {
     "data": {
      "text/plain": [
       "1"
      ]
     },
     "execution_count": 52,
     "metadata": {},
     "output_type": "execute_result"
    }
   ],
   "source": [
    "num_bins"
   ]
  },
  {
   "cell_type": "code",
   "execution_count": 87,
   "id": "b3afbf06-3dda-429b-986c-9c9b8dffda77",
   "metadata": {},
   "outputs": [],
   "source": [
    "def split_file_into_n_chunks(filename, num_chunks):\n",
    "    file_size = os.path.getsize(filename)\n",
    "    chunk_size = file_size // num_chunks\n",
    "\n",
    "    if file_size % num_chunks != 0:\n",
    "        last_chunk_size = file_size - chunk_size * (num_chunks - 1)\n",
    "\n",
    "    chunk_ranges = []\n",
    "\n",
    "    for i in range(num_chunks):\n",
    "        start = i * chunk_size\n",
    "        if i == num_chunks - 1 and last_chunk_size:\n",
    "            end = start + last_chunk_size\n",
    "        else:\n",
    "            end = start + chunk_size\n",
    "\n",
    "        chunk_ranges.append((start, end))\n",
    "\n",
    "    return chunk_ranges"
   ]
  },
  {
   "cell_type": "code",
   "execution_count": 88,
   "id": "50845088-d277-486d-9c41-6701530b6857",
   "metadata": {},
   "outputs": [
    {
     "data": {
      "text/plain": [
       "[(0, 2341913382),\n",
       " (2341913382, 4683826764),\n",
       " (4683826764, 7025740146),\n",
       " (7025740146, 9367653528),\n",
       " (9367653528, 11709566910),\n",
       " (11709566910, 14051480292),\n",
       " (14051480292, 16393393674),\n",
       " (16393393674, 18735307060)]"
      ]
     },
     "execution_count": 88,
     "metadata": {},
     "output_type": "execute_result"
    }
   ],
   "source": [
    "split_file_into_n_chunks('../data/bigTwitter.json', 8)"
   ]
  },
  {
   "cell_type": "code",
   "execution_count": 61,
   "id": "4fa749d0-385a-4da8-9b71-865e6ad4d20d",
   "metadata": {},
   "outputs": [],
   "source": [
    "def read_file_with_bins(filename, bin_size=512):\n",
    "    file_size = os.path.getsize(filename)\n",
    "    num_bins = file_size // (bin_size * 1024 * 1024)\n",
    "\n",
    "    if file_size % (bin_size * 1024 * 1024) != 0:\n",
    "        num_bins += 1\n",
    "\n",
    "    bin_ranges = []\n",
    "    for i in range(num_bins):\n",
    "        start = i * bin_size * 1024 * 1024\n",
    "        end = min(start + bin_size * 1024 * 1024, file_size)\n",
    "        bin_ranges.append((start, end))\n",
    "\n",
    "    return bin_ranges"
   ]
  },
  {
   "cell_type": "code",
   "execution_count": 90,
   "id": "69ee114b-d27f-4918-9ab3-08b8e36a731c",
   "metadata": {},
   "outputs": [
    {
     "name": "stdout",
     "output_type": "stream",
     "text": [
      "CPU times: user 2.47 s, sys: 1.59 s, total: 4.06 s\n",
      "Wall time: 14.1 s\n"
     ]
    }
   ],
   "source": [
    "%%time\n",
    "lines = [] \n",
    "\n",
    "def read_into_memory(file, lines, chunk_start, chunk_end):\n",
    "    fsize = os.stat(file).st_size\n",
    "    length = chunk_end - chunk_start\n",
    "    \n",
    "    with open(file, mode='rb') as f:\n",
    "        mmaped_data = mmap.mmap(f.fileno(), length=length, offset=chunk_start,access=mmap.ACCESS_READ)\n",
    "\n",
    "        line = mmaped_data.readline()\n",
    "        while line:\n",
    "            lines.append(line)\n",
    "            line = mmaped_data.readline()\n",
    "\n",
    "        mmaped_data.close()\n",
    "    \n",
    "read_512mb_into_memory('../data/bigTwitter.json', lines, 536870912, 1073741824)"
   ]
  },
  {
   "cell_type": "code",
   "execution_count": 63,
   "id": "744e508b-f205-4ee2-b659-1874f415ade8",
   "metadata": {},
   "outputs": [
    {
     "data": {
      "text/plain": [
       "(20320215,\n",
       " [b'            \"start\": 0,\\n',\n",
       "  b'            \"end\": 10,\\n',\n",
       "  b'            \"username\": \"isobelroe\",\\n',\n",
       "  b'            \"id\": \"28537321\"\\n',\n",
       "  b'          }\\n'])"
      ]
     },
     "execution_count": 63,
     "metadata": {},
     "output_type": "execute_result"
    }
   ],
   "source": [
    "len(lines), lines[0:5]"
   ]
  },
  {
   "cell_type": "code",
   "execution_count": 93,
   "id": "762fff1e-467d-48c7-a544-fc034314aadf",
   "metadata": {},
   "outputs": [],
   "source": [
    "def read_into_memory(file, lines, chunk_start, chunk_end):\n",
    "    length = chunk_end - chunk_start\n",
    "    \n",
    "    with open(file, mode='rb') as f:\n",
    "        mmaped_data = mmap.mmap(f.fileno(), length=length, offset=chunk_start,access=mmap.ACCESS_READ)\n",
    "\n",
    "        line = mmaped_data.readline()\n",
    "        while line:\n",
    "            lines.append(line)\n",
    "            line = mmaped_data.readline()\n",
    "\n",
    "        mmaped_data.close()"
   ]
  },
  {
   "cell_type": "code",
   "execution_count": null,
   "id": "38aca14e-19a2-47b9-82db-a4fee1410a76",
   "metadata": {},
   "outputs": [],
   "source": [
    "%%timeit\n",
    "\n",
    "bins = read_file_with_bins('../data/bigTwitter.json')\n",
    "lines = list()\n",
    "for chunk_start, chunk_end in bins:\n",
    "    read_into_memory('../data/bigTwitter.json', lines, chunk_start, chunk_end)\n",
    "    \n",
    "len(lines), lines[0:5]"
   ]
  },
  {
   "cell_type": "code",
   "execution_count": 66,
   "id": "912d2b15-03a6-40d6-89b0-9a308fd7c8e5",
   "metadata": {},
   "outputs": [
    {
     "name": "stdout",
     "output_type": "stream",
     "text": [
      "CPU times: user 7.32 s, sys: 3.76 s, total: 11.1 s\n",
      "Wall time: 21.7 s\n"
     ]
    },
    {
     "data": {
      "text/plain": [
       "(20320215,\n",
       " [b'            \"start\": 0,\\n',\n",
       "  b'            \"end\": 10,\\n',\n",
       "  b'            \"username\": \"isobelroe\",\\n',\n",
       "  b'            \"id\": \"28537321\"\\n',\n",
       "  b'          }\\n'])"
      ]
     },
     "execution_count": 66,
     "metadata": {},
     "output_type": "execute_result"
    }
   ],
   "source": [
    "%%time\n",
    "lines = []\n",
    "with open('../data/bigTwitter.json', 'rb') as f:\n",
    "    line = f.readline()\n",
    "    \n",
    "    while :\n",
    "        line = f.readline()\n",
    "        lines.append(line)\n",
    "\n",
    "len(lines), lines[0:5]       "
   ]
  },
  {
   "cell_type": "code",
   "execution_count": 92,
   "id": "0f276329-7a34-4857-b425-2fb26fedfef6",
   "metadata": {
    "scrolled": true,
    "tags": []
   },
   "outputs": [
    {
     "data": {
      "text/plain": [
       "35"
      ]
     },
     "execution_count": 92,
     "metadata": {},
     "output_type": "execute_result"
    }
   ],
   "source": [
    "len(read_file_with_bins('../data/bigTwitter.json'))"
   ]
  },
  {
   "cell_type": "code",
   "execution_count": null,
   "id": "b15d0c33-de38-44bc-9ea9-25adb99f9d73",
   "metadata": {},
   "outputs": [],
   "source": []
  }
 ],
 "metadata": {
  "kernelspec": {
   "display_name": "Python 3 (ipykernel)",
   "language": "python",
   "name": "python3"
  },
  "language_info": {
   "codemirror_mode": {
    "name": "ipython",
    "version": 3
   },
   "file_extension": ".py",
   "mimetype": "text/x-python",
   "name": "python",
   "nbconvert_exporter": "python",
   "pygments_lexer": "ipython3",
   "version": "3.10.9"
  }
 },
 "nbformat": 4,
 "nbformat_minor": 5
}
