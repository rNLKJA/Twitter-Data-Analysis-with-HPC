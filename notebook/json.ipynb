{
 "cells": [
  {
   "cell_type": "code",
   "execution_count": 5,
   "id": "ee380926-2e0b-47e9-b34a-b4c7f1dd0c74",
   "metadata": {},
   "outputs": [],
   "source": [
    "import numpy as np\n",
    "from dataclasses import dataclass\n",
    "import re\n",
    "from pathlib import Path\n",
    "import ijson\n",
    "import pandas as pd\n",
    "import textdistance"
   ]
  },
  {
   "cell_type": "code",
   "execution_count": 6,
   "id": "4a12d01a-bfd9-4e09-8b64-d401c326d3ca",
   "metadata": {},
   "outputs": [],
   "source": [
    "filename = \"../data/twitter-data-small.json\""
   ]
  },
  {
   "cell_type": "code",
   "execution_count": 7,
   "id": "0625ee6b-4e49-42be-b0cd-5198a6c72a49",
   "metadata": {
    "tags": []
   },
   "outputs": [],
   "source": [
    "@dataclass\n",
    "class json_handler:\n",
    "    \"\"\"\n",
    "    JSON handler use to handle json input and obtain required information.\n",
    "    \"\"\"\n",
    "    location_dict = {\n",
    "        \"Australian Capital Territory\": \"act\",\n",
    "        \"New South Wales\": \"nsw\",\n",
    "        \"Victoria\": \"vic\",\n",
    "        \"Sydney\": \"syd\",\n",
    "        \"Melbourne\": \"mel\",\n",
    "        \"Hobart\": \"hob\",\n",
    "        \"Brisbane\": \"bri\",\n",
    "        \"Queensland\": \"qld\",\n",
    "        \"Tasmania\": \"tas\",\n",
    "        \n",
    "        \" - \": \" \",\n",
    "        \", \": \" \"\n",
    "    }\n",
    "    \n",
    "    @classmethod\n",
    "    def location(self, string):\n",
    "        location = string\n",
    "        for key, value in self.location_dict.items():\n",
    "            location = re.sub(key, value, location)\n",
    "        \n",
    "        # remove duplicate words\n",
    "        location = re.sub(r'\\b(\\w+)\\b\\s+\\b\\1\\b', r'\\1', location)\n",
    "            \n",
    "        return location.lower().lstrip().rstrip()\n",
    "    \n",
    "    @classmethod\n",
    "    def location_distance(text: str, target: str) -> str:\n",
    "        score = textdistance.jaro_winkler(text, target)\n",
    "        return score"
   ]
  },
  {
   "cell_type": "code",
   "execution_count": 8,
   "id": "afe33052-7565-4e2d-b438-6b35f5beaaf6",
   "metadata": {},
   "outputs": [],
   "source": [
    "@dataclass\n",
    "class Twitter:\n",
    "    _id: str = None\n",
    "    author: str = None\n",
    "    locat: str = None\n",
    "        \n",
    "    def __repr__(self):\n",
    "        return f\"{self._id} | {self.author} | {self.locat}\""
   ]
  },
  {
   "cell_type": "code",
   "execution_count": 9,
   "id": "5df9f976-b029-4ae6-9029-8228df758540",
   "metadata": {},
   "outputs": [],
   "source": [
    "FRIST_LINE, START = \"item\", \"start_map\"\n",
    "TWITTER_ID = 'item._id'\n",
    "AUTHOR_ID = \"item.data.author_id\"\n",
    "LOCATION = \"item.includes.places.item.full_name\"\n",
    "HAS_VALUE = \"string\""
   ]
  },
  {
   "cell_type": "code",
   "execution_count": 10,
   "id": "f43d968d-edc9-4951-812a-11c0e8be003b",
   "metadata": {},
   "outputs": [],
   "source": [
    "def start_json_item(prefix: str, event: str) -> bool:\n",
    "    return True if prefix == FRIST_LINE and event == START else False\n",
    "    \n",
    "def is_twitter_id(prefix: str, event: str, value: any) -> bool:\n",
    "    return True if prefix == TWITTER_ID and event == HAS_VALUE and value is not None else False\n",
    "\n",
    "def is_author_id(prefix: str, event: str, value: any) -> bool:\n",
    "    return True if prefix == AUTHOR_ID and event == HAS_VALUE and value is not None else False\n",
    "\n",
    "def is_location(prefix: str, event: str, value: any) -> bool:\n",
    "    return True if prefix == LOCATION and event == HAS_VALUE and value is not None else False"
   ]
  },
  {
   "cell_type": "code",
   "execution_count": 15,
   "id": "16fadbb1-54f9-4e75-a8cf-4ae2eafd050c",
   "metadata": {},
   "outputs": [],
   "source": [
    "chunk_size = 100000"
   ]
  },
  {
   "cell_type": "code",
   "execution_count": 18,
   "id": "f10f9eec-5679-4d98-bacf-69a4da590122",
   "metadata": {},
   "outputs": [],
   "source": [
    "import ijson.backends"
   ]
  },
  {
   "cell_type": "code",
   "execution_count": 33,
   "id": "be85bebd-f060-45bd-a4af-f6053b7e2da5",
   "metadata": {},
   "outputs": [],
   "source": [
    "import json"
   ]
  },
  {
   "cell_type": "code",
   "execution_count": null,
   "id": "cc58f1bc-eb51-4ce6-8982-cf0b9f65ebfd",
   "metadata": {},
   "outputs": [],
   "source": []
  },
  {
   "cell_type": "code",
   "execution_count": 40,
   "id": "b4a6092b-892d-458a-9f63-4ef0e71f0639",
   "metadata": {},
   "outputs": [
    {
     "data": {
      "text/plain": [
       "1471015"
      ]
     },
     "execution_count": 40,
     "metadata": {},
     "output_type": "execute_result"
    }
   ],
   "source": [
    "data_size_total = Path(filename).stat().st_size\n",
    "data_size_total"
   ]
  },
  {
   "cell_type": "code",
   "execution_count": 101,
   "id": "33d73f07-ff65-4613-9930-b6ab4e693b3b",
   "metadata": {},
   "outputs": [
    {
     "data": {
      "text/plain": [
       "367753"
      ]
     },
     "execution_count": 101,
     "metadata": {},
     "output_type": "execute_result"
    }
   ],
   "source": [
    "data_size_total // 4"
   ]
  },
  {
   "cell_type": "code",
   "execution_count": null,
   "id": "874e8f56-d896-4659-b722-136291e7b1e5",
   "metadata": {},
   "outputs": [],
   "source": []
  },
  {
   "cell_type": "code",
   "execution_count": 131,
   "id": "8fa07432-228a-4a16-9435-8e724c26afa6",
   "metadata": {},
   "outputs": [
    {
     "name": "stdout",
     "output_type": "stream",
     "text": [
      "1412197812243034114\n",
      "\n",
      "1099659121\n",
      "\n",
      "Sydney New South Wales\n",
      "\n"
     ]
    }
   ],
   "source": [
    "with open(filename, mode=\"r\") as f:\n",
    "    f.seek(367753)\n",
    "    \n",
    "    line = f.readline()\n",
    "    \n",
    "    chunks = []\n",
    "    while not re.search(\"_id\", line):\n",
    "        line = f.readline()\n",
    "    \n",
    "    print(line.replace(\",\", \"\").replace(\"\\\"\", \"\").split(\": \")[-1])\n",
    "    while not re.search(\"author_id\", line):\n",
    "        line = f.readline()\n",
    "        \n",
    "    print(line.replace(\",\", \"\").replace(\"\\\"\", \"\").split(\": \")[-1])\n",
    "    while not re.search(\"full_name\", line):\n",
    "        line = f.readline()\n",
    "    \n",
    "    print(line.replace(\",\", \"\").replace(\"\\\"\", \"\").split(\": \")[-1])"
   ]
  },
  {
   "cell_type": "code",
   "execution_count": null,
   "id": "fc81d54c-7a39-4203-883b-f0a1c9a229a9",
   "metadata": {},
   "outputs": [],
   "source": []
  }
 ],
 "metadata": {
  "kernelspec": {
   "display_name": "Python 3 (ipykernel)",
   "language": "python",
   "name": "python3"
  },
  "language_info": {
   "codemirror_mode": {
    "name": "ipython",
    "version": 3
   },
   "file_extension": ".py",
   "mimetype": "text/x-python",
   "name": "python",
   "nbconvert_exporter": "python",
   "pygments_lexer": "ipython3",
   "version": "3.10.9"
  }
 },
 "nbformat": 4,
 "nbformat_minor": 5
}
