{
 "cells": [
  {
   "cell_type": "code",
   "execution_count": 40,
   "id": "ee380926-2e0b-47e9-b34a-b4c7f1dd0c74",
   "metadata": {},
   "outputs": [],
   "source": [
    "import numpy as np\n",
    "from dataclasses import dataclass\n",
    "import re\n",
    "from pathlib import Path\n",
    "import ijson\n",
    "import pandas as pd\n",
    "import textdistance"
   ]
  },
  {
   "cell_type": "code",
   "execution_count": 18,
   "id": "4a12d01a-bfd9-4e09-8b64-d401c326d3ca",
   "metadata": {},
   "outputs": [],
   "source": [
    "filename = \"../data/twitter-data-small.json\""
   ]
  },
  {
   "cell_type": "code",
   "execution_count": 19,
   "id": "0625ee6b-4e49-42be-b0cd-5198a6c72a49",
   "metadata": {
    "tags": []
   },
   "outputs": [],
   "source": [
    "@dataclass\n",
    "class json_handler:\n",
    "    \"\"\"\n",
    "    JSON handler use to handle json input and obtain required information.\n",
    "    \"\"\"\n",
    "    location_dict = {\n",
    "        \"Australian Capital Territory\": \"act\",\n",
    "        \"New South Wales\": \"nsw\",\n",
    "        \"Victoria\": \"vic\",\n",
    "        \"Sydney\": \"syd\",\n",
    "        \"Melbourne\": \"mel\",\n",
    "        \"Hobart\": \"hob\",\n",
    "        \"Brisbane\": \"bri\",\n",
    "        \"Queensland\": \"qld\",\n",
    "        \"Tasmania\": \"tas\",\n",
    "        \n",
    "        \" - \": \" \",\n",
    "        \", \": \" \"\n",
    "    }\n",
    "    \n",
    "    @classmethod\n",
    "    def location(self, string):\n",
    "        location = string\n",
    "        for key, value in self.location_dict.items():\n",
    "            location = re.sub(key, value, location)\n",
    "        \n",
    "        # remove duplicate words\n",
    "        location = re.sub(r'\\b(\\w+)\\b\\s+\\b\\1\\b', r'\\1', location)\n",
    "            \n",
    "        return location.lower().lstrip().rstrip()\n",
    "    \n",
    "    @classmethod\n",
    "    def location_distance(text: str, target: str) -> str:\n",
    "        score = textdistance.jaro_winkler(text, target)\n",
    "        return score"
   ]
  },
  {
   "cell_type": "code",
   "execution_count": 20,
   "id": "afe33052-7565-4e2d-b438-6b35f5beaaf6",
   "metadata": {},
   "outputs": [],
   "source": [
    "@dataclass\n",
    "class Twitter:\n",
    "    _id: str = None\n",
    "    author: str = None\n",
    "    locat: str = None\n",
    "        \n",
    "    def __repr__(self):\n",
    "        return f\"{self._id} | {self.author} | {self.locat}\""
   ]
  },
  {
   "cell_type": "code",
   "execution_count": 30,
   "id": "5df9f976-b029-4ae6-9029-8228df758540",
   "metadata": {},
   "outputs": [],
   "source": [
    "FRIST_LINE, START = \"item\", \"start_map\"\n",
    "TWITTER_ID = 'item._id'\n",
    "AUTHOR_ID = \"item.data.author_id\"\n",
    "LOCATION = \"item.includes.places.item.full_name\"\n",
    "HAS_VALUE = \"string\""
   ]
  },
  {
   "cell_type": "code",
   "execution_count": 33,
   "id": "f43d968d-edc9-4951-812a-11c0e8be003b",
   "metadata": {},
   "outputs": [],
   "source": [
    "def start_json_item(prefix: str, event: str) -> bool:\n",
    "    return True if prefix == FRIST_LINE and event == START else False\n",
    "    \n",
    "def is_twitter_id(prefix: str, event: str, value: any) -> bool:\n",
    "    return True if prefix == TWITTER_ID and event == HAS_VALUE and value is not None else False\n",
    "\n",
    "def is_author_id(prefix: str, event: str, value: any) -> bool:\n",
    "    return True if prefix == AUTHOR_ID and event == HAS_VALUE and value is not None else False\n",
    "\n",
    "def is_location(prefix: str, event: str, value: any) -> bool:\n",
    "    return True if prefix == LOCATION and event == HAS_VALUE and value is not None else False"
   ]
  },
  {
   "cell_type": "code",
   "execution_count": 34,
   "id": "0b9a9c62-20f9-4152-929b-318df56b3818",
   "metadata": {
    "scrolled": true,
    "tags": []
   },
   "outputs": [],
   "source": [
    "with open(filename, \"r\") as f:\n",
    "    parser = ijson.parse(f)\n",
    "    current_chunk = []\n",
    "        \n",
    "    for prefix, event, value in ijson.parse(f):\n",
    "        \n",
    "        # if a json line start, initializing a twitter object\n",
    "        if start_json_item(prefix, event):\n",
    "            current_chunk.append(Twitter())\n",
    "        \n",
    "        elif is_twitter_id(prefix, event, value):\n",
    "            current_chunk[-1]._id = np.int64(value)\n",
    "        \n",
    "        elif is_author_id(prefix, event, value):\n",
    "            current_chunk[-1].author = np.int64(value)\n",
    "        \n",
    "        elif is_location(prefix, event, value):\n",
    "            current_chunk[-1].locat = json_handler.location(value)\n",
    "            \n",
    "    jdf = pd.DataFrame([item.__dict__ for item in current_chunk])"
   ]
  },
  {
   "cell_type": "code",
   "execution_count": 35,
   "id": "dfa917b7-a22d-4bb3-9af7-2654399dadc5",
   "metadata": {},
   "outputs": [
    {
     "data": {
      "text/html": [
       "<div>\n",
       "<style scoped>\n",
       "    .dataframe tbody tr th:only-of-type {\n",
       "        vertical-align: middle;\n",
       "    }\n",
       "\n",
       "    .dataframe tbody tr th {\n",
       "        vertical-align: top;\n",
       "    }\n",
       "\n",
       "    .dataframe thead th {\n",
       "        text-align: right;\n",
       "    }\n",
       "</style>\n",
       "<table border=\"1\" class=\"dataframe\">\n",
       "  <thead>\n",
       "    <tr style=\"text-align: right;\">\n",
       "      <th></th>\n",
       "      <th>_id</th>\n",
       "      <th>author</th>\n",
       "      <th>locat</th>\n",
       "    </tr>\n",
       "  </thead>\n",
       "  <tbody>\n",
       "    <tr>\n",
       "      <th>0</th>\n",
       "      <td>1412193387575316482</td>\n",
       "      <td>836119507173154816</td>\n",
       "      <td>australia</td>\n",
       "    </tr>\n",
       "    <tr>\n",
       "      <th>1</th>\n",
       "      <td>1412195752344883200</td>\n",
       "      <td>1399941819950006272</td>\n",
       "      <td>australia</td>\n",
       "    </tr>\n",
       "    <tr>\n",
       "      <th>2</th>\n",
       "      <td>1412189452361891840</td>\n",
       "      <td>3022979040</td>\n",
       "      <td>nsw australia</td>\n",
       "    </tr>\n",
       "    <tr>\n",
       "      <th>3</th>\n",
       "      <td>1412189999055790082</td>\n",
       "      <td>558259110</td>\n",
       "      <td>nsw australia</td>\n",
       "    </tr>\n",
       "    <tr>\n",
       "      <th>4</th>\n",
       "      <td>1412190244280012802</td>\n",
       "      <td>1158755742</td>\n",
       "      <td>nsw australia</td>\n",
       "    </tr>\n",
       "    <tr>\n",
       "      <th>...</th>\n",
       "      <td>...</td>\n",
       "      <td>...</td>\n",
       "      <td>...</td>\n",
       "    </tr>\n",
       "    <tr>\n",
       "      <th>710</th>\n",
       "      <td>1412198117932371969</td>\n",
       "      <td>1348502962050535428</td>\n",
       "      <td>canberra act</td>\n",
       "    </tr>\n",
       "    <tr>\n",
       "      <th>711</th>\n",
       "      <td>1412198454407794689</td>\n",
       "      <td>137315172</td>\n",
       "      <td>canberra act</td>\n",
       "    </tr>\n",
       "    <tr>\n",
       "      <th>712</th>\n",
       "      <td>1412185329184821253</td>\n",
       "      <td>3306424254</td>\n",
       "      <td>canberra act</td>\n",
       "    </tr>\n",
       "    <tr>\n",
       "      <th>713</th>\n",
       "      <td>1412190755452424209</td>\n",
       "      <td>7598552</td>\n",
       "      <td>braddon canberra</td>\n",
       "    </tr>\n",
       "    <tr>\n",
       "      <th>714</th>\n",
       "      <td>1412197569585848320</td>\n",
       "      <td>1397010827048194048</td>\n",
       "      <td>fyshwick canberra</td>\n",
       "    </tr>\n",
       "  </tbody>\n",
       "</table>\n",
       "<p>715 rows × 3 columns</p>\n",
       "</div>"
      ],
      "text/plain": [
       "                     _id               author              locat\n",
       "0    1412193387575316482   836119507173154816          australia\n",
       "1    1412195752344883200  1399941819950006272          australia\n",
       "2    1412189452361891840           3022979040      nsw australia\n",
       "3    1412189999055790082            558259110      nsw australia\n",
       "4    1412190244280012802           1158755742      nsw australia\n",
       "..                   ...                  ...                ...\n",
       "710  1412198117932371969  1348502962050535428       canberra act\n",
       "711  1412198454407794689            137315172       canberra act\n",
       "712  1412185329184821253           3306424254       canberra act\n",
       "713  1412190755452424209              7598552   braddon canberra\n",
       "714  1412197569585848320  1397010827048194048  fyshwick canberra\n",
       "\n",
       "[715 rows x 3 columns]"
      ]
     },
     "execution_count": 35,
     "metadata": {},
     "output_type": "execute_result"
    }
   ],
   "source": [
    "jdf"
   ]
  },
  {
   "cell_type": "code",
   "execution_count": 36,
   "id": "1a8439bb-1cbb-40a0-84ea-b1393598345a",
   "metadata": {},
   "outputs": [
    {
     "data": {
      "text/plain": [
       "array(['australia', 'nsw australia', 'central coast nsw',\n",
       "       'nelson bay corlette nsw', 'eveleigh syd', 'kirribilli syd',\n",
       "       'macquarie park syd', 'picton nsw', 'syd nsw', 'bathurst nsw',\n",
       "       'byron bay nsw', 'cambewarra village nsw', 'coffs harbour nsw',\n",
       "       'gloucester nsw', 'helensburgh nsw', 'kempsey nsw', 'manilla nsw',\n",
       "       'murwillumbah', 'newcastle nsw', 'queanbeyan nsw', 'tamworth nsw',\n",
       "       'toronto ontario', 'tweed heads nsw', 'whitton nsw',\n",
       "       'wollongong nsw', 'torquay jan juc vic', 'vic australia',\n",
       "       'shepparton mooroopna vic', 'gisborne vic', 'mel vic',\n",
       "       'melton vic', 'pakenham vic', 'scoresby mel', 'sunbury vic',\n",
       "       'sunshine mel', 'windsor mel', 'anglesea vic', 'ballarat vic',\n",
       "       'bendigo vic', 'geelong vic', 'kilmore vic', 'mansfield vic',\n",
       "       'wangaratta vic', 'warrnambool vic', 'gold coast qld',\n",
       "       'sunshine coast qld', 'qld australia', 'rockhampton qld',\n",
       "       'cairns qld', 'airlie beach cannonvale qld', 'toowoomba qld',\n",
       "       'townsville qld', 'doonan tinbeerwah qld', 'bri qld', 'ayr qld',\n",
       "       'clermont qld', 'mossman gorge mossman', 'tamborine mountain qld',\n",
       "       'westbrook qld', 'crafers bridgewater south australia',\n",
       "       'south australia', 'adelaide south australia',\n",
       "       'auburn south australia', 'carrickalinga south australia',\n",
       "       'western australia', 'perth western australia',\n",
       "       'serpentine western australia', 'broome western australia',\n",
       "       'margaret river western australia', 'tas australia', 'hob tas',\n",
       "       'launceston tas', 'darwin northern territory',\n",
       "       'ghan northern territory', 'canberra act', 'braddon canberra',\n",
       "       'fyshwick canberra'], dtype=object)"
      ]
     },
     "execution_count": 36,
     "metadata": {},
     "output_type": "execute_result"
    }
   ],
   "source": [
    "jdf.locat.unique()"
   ]
  },
  {
   "cell_type": "code",
   "execution_count": 25,
   "id": "4a303cea-6ce1-40ca-b170-d0d71d406224",
   "metadata": {},
   "outputs": [
    {
     "name": "stdout",
     "output_type": "stream",
     "text": [
      "<class 'pandas.core.frame.DataFrame'>\n",
      "RangeIndex: 715 entries, 0 to 714\n",
      "Data columns (total 3 columns):\n",
      " #   Column  Non-Null Count  Dtype \n",
      "---  ------  --------------  ----- \n",
      " 0   _id     715 non-null    int64 \n",
      " 1   author  715 non-null    int64 \n",
      " 2   locat   715 non-null    object\n",
      "dtypes: int64(2), object(1)\n",
      "memory usage: 16.9+ KB\n"
     ]
    }
   ],
   "source": [
    "jdf.info()"
   ]
  },
  {
   "cell_type": "code",
   "execution_count": 26,
   "id": "ae64effb-ee05-40a4-8109-4eb898f908fa",
   "metadata": {},
   "outputs": [
    {
     "data": {
      "text/html": [
       "<div>\n",
       "<style scoped>\n",
       "    .dataframe tbody tr th:only-of-type {\n",
       "        vertical-align: middle;\n",
       "    }\n",
       "\n",
       "    .dataframe tbody tr th {\n",
       "        vertical-align: top;\n",
       "    }\n",
       "\n",
       "    .dataframe thead th {\n",
       "        text-align: right;\n",
       "    }\n",
       "</style>\n",
       "<table border=\"1\" class=\"dataframe\">\n",
       "  <thead>\n",
       "    <tr style=\"text-align: right;\">\n",
       "      <th></th>\n",
       "      <th>_id</th>\n",
       "      <th>author</th>\n",
       "      <th>locat</th>\n",
       "    </tr>\n",
       "  </thead>\n",
       "  <tbody>\n",
       "    <tr>\n",
       "      <th>710</th>\n",
       "      <td>1412198117932371969</td>\n",
       "      <td>1348502962050535428</td>\n",
       "      <td>canberra act</td>\n",
       "    </tr>\n",
       "    <tr>\n",
       "      <th>711</th>\n",
       "      <td>1412198454407794689</td>\n",
       "      <td>137315172</td>\n",
       "      <td>canberra act</td>\n",
       "    </tr>\n",
       "    <tr>\n",
       "      <th>712</th>\n",
       "      <td>1412185329184821253</td>\n",
       "      <td>3306424254</td>\n",
       "      <td>canberra act</td>\n",
       "    </tr>\n",
       "    <tr>\n",
       "      <th>713</th>\n",
       "      <td>1412190755452424209</td>\n",
       "      <td>7598552</td>\n",
       "      <td>braddon canberra</td>\n",
       "    </tr>\n",
       "    <tr>\n",
       "      <th>714</th>\n",
       "      <td>1412197569585848320</td>\n",
       "      <td>1397010827048194048</td>\n",
       "      <td>fyshwick canberra</td>\n",
       "    </tr>\n",
       "  </tbody>\n",
       "</table>\n",
       "</div>"
      ],
      "text/plain": [
       "                     _id               author              locat\n",
       "710  1412198117932371969  1348502962050535428       canberra act\n",
       "711  1412198454407794689            137315172       canberra act\n",
       "712  1412185329184821253           3306424254       canberra act\n",
       "713  1412190755452424209              7598552   braddon canberra\n",
       "714  1412197569585848320  1397010827048194048  fyshwick canberra"
      ]
     },
     "execution_count": 26,
     "metadata": {},
     "output_type": "execute_result"
    }
   ],
   "source": [
    "jdf.tail()"
   ]
  },
  {
   "cell_type": "code",
   "execution_count": 27,
   "id": "bbefca1b-b4b9-4d60-9f87-8e8359ba3d21",
   "metadata": {},
   "outputs": [
    {
     "data": {
      "text/plain": [
       "10082461.538461538"
      ]
     },
     "execution_count": 27,
     "metadata": {},
     "output_type": "execute_result"
    }
   ],
   "source": [
    "20 * 1024 * 1024 / 2.08"
   ]
  },
  {
   "cell_type": "code",
   "execution_count": 28,
   "id": "f42593fd-e688-484e-b90f-b7f994c6184d",
   "metadata": {},
   "outputs": [
    {
     "data": {
      "text/plain": [
       "0.02361111111111111"
      ]
     },
     "execution_count": 28,
     "metadata": {},
     "output_type": "execute_result"
    }
   ],
   "source": [
    "17 / 720"
   ]
  },
  {
   "cell_type": "code",
   "execution_count": 29,
   "id": "e5c87756-ceb8-48bf-a296-23ccd6ab3fbf",
   "metadata": {},
   "outputs": [
    {
     "data": {
      "text/plain": [
       "246.15383300781252"
      ]
     },
     "execution_count": 29,
     "metadata": {},
     "output_type": "execute_result"
    }
   ],
   "source": [
    "10082461 * 0.025 / 1024 "
   ]
  }
 ],
 "metadata": {
  "kernelspec": {
   "display_name": "Python 3 (ipykernel)",
   "language": "python",
   "name": "python3"
  },
  "language_info": {
   "codemirror_mode": {
    "name": "ipython",
    "version": 3
   },
   "file_extension": ".py",
   "mimetype": "text/x-python",
   "name": "python",
   "nbconvert_exporter": "python",
   "pygments_lexer": "ipython3",
   "version": "3.10.9"
  }
 },
 "nbformat": 4,
 "nbformat_minor": 5
}
